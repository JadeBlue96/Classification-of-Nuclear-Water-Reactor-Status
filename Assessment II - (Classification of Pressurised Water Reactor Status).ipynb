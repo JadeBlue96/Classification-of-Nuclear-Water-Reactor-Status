{
 "cells": [
  {
   "cell_type": "markdown",
   "metadata": {},
   "source": [
    "## <center>CS551G - Data Mining and Visualisation</center>\n",
    "\n",
    "# <center>Assessment II - Classification of Pressurised Water Reactor Status</center>\n",
    "\n",
    "---\n",
    "\n",
    "## <center>Author: Konstantin Georgiev</center>\n",
    "### <center>Email: k.georgiev.19@abdn.ac.uk</center>\n",
    "\n",
    "---\n",
    "\n",
    "### Problem statement\n",
    "\n",
    "&nbsp;&nbsp;&nbsp;The objective of this assessment is to analyse a large dataset concerning pressurised water reactor data, specifically on the properties involved in the fuel assemblies cluster vibrations, alterations of thermal and hydraulic parameters, etc. For over 70 years, the nuclear power industry – in the UK and worldwide – have primarily focused on the technological evolution of reliable nuclear power plants to produce electricity. By monitoring pressurised water reactors (a type of nuclear reactor), whilst operating at nominal conditions, it is possible to collect valuable insight and extract knowledge for early detection of abnormal events. Various types of fluctuations and perturbations can be caused by the turbulent nature of flow in the core, mechanical vibrations within the reactor, the boiling coolant and stochastic character (random noise). The dataset can be downloaded from MyAberdeen. It is based on data from a research project that investigates how to detect anomalies and events in pressurised water reactors. The dataset includes two classes (normal/abnormal condition) and a number of features, which will need to be utilised throughout this assessment.  The class membership of each row is stored in the field ‘Status’. The task is to develop a set of classification models for automatically classifying reactors as normal or abnormal, based on their parameters/features.\n",
    "\n",
    "<b>Feature information in the dataset include:</b>\n",
    "- Various vibration measurements in different parts of the reactor (four features)\n",
    "- Various pressure values in different parts of the reactor (four features)\n",
    "- Power levels in different parts of the reactor (four features)\n",
    "\n",
    "<b>Status</b> refers to the condition of the nuclear reactor, or in other words, we consider this to be our label/annotation for the sake of all implementations (first column). As this is a binary classification task, all implementations should treat the problem as such.\n",
    "\n",
    "<b>Unit of measurement or range of values of each feature are not relevant. However, features can be at different scales and/or measured in different units.</b>\n",
    "\n",
    "---\n",
    "\n",
    "### Project Structure\n",
    "\n",
    "1.   <b> [Data acquisition.](#section1) </b>\n",
    "2.   <b> [Exploratory Data Analysis.](#section2) </b>\n",
    "3.   <b> [Logistic Regression model.](#section3) </b>\n",
    "4.   <b> [Gradient-boosting tree model.](#section4)</b>\n",
    "5.   <b> [Conclusion.](#section5)</b>"
   ]
  },
  {
   "cell_type": "markdown",
   "metadata": {},
   "source": [
    "### Distributed models in Apache spark to classify nuclear reactor status"
   ]
  },
  {
   "cell_type": "markdown",
   "metadata": {},
   "source": [
    "#### Importing libraries"
   ]
  },
  {
   "cell_type": "markdown",
   "metadata": {},
   "source": [
    "##### Session"
   ]
  },
  {
   "cell_type": "code",
   "execution_count": 1,
   "metadata": {},
   "outputs": [],
   "source": [
    "import os\n",
    "os.environ[\"SPARK_HOME\"] = \"C:\\spark-2.4.5-bin-hadoop2.7\"\n",
    "os.environ[\"JAVA_HOME\"] = \"C:\\Progra~2\\Java\\jdk1.8.0_161\"\n",
    "import findspark\n",
    "findspark.init()\n",
    "\n",
    "import pyspark\n",
    "\n",
    "from pyspark.sql import SparkSession\n",
    "spark = SparkSession.builder \\\n",
    "    .master(\"local[*]\") \\\n",
    "    .appName(\"SparkDataMining\") \\\n",
    "    .getOrCreate()"
   ]
  },
  {
   "cell_type": "markdown",
   "metadata": {},
   "source": [
    "##### Packages"
   ]
  },
  {
   "cell_type": "code",
   "execution_count": 2,
   "metadata": {},
   "outputs": [],
   "source": [
    "from pyspark.ml.feature import VectorAssembler, StringIndexer, StandardScaler\n",
    "from pyspark.sql.types import *\n",
    "from pyspark.sql.functions import isnan, when, count, col\n",
    "\n",
    "from pyspark.ml.classification import LogisticRegression, GBTClassifier\n",
    "from pyspark.mllib.evaluation import BinaryClassificationMetrics, MulticlassMetrics\n",
    "from pyspark.ml.evaluation import BinaryClassificationEvaluator, MulticlassClassificationEvaluator\n",
    "\n",
    "import pandas as pd\n",
    "import string\n",
    "import seaborn as sns\n",
    "import matplotlib.pyplot as plt\n",
    "sns.set(style='whitegrid', palette=\"deep\", font_scale=1.1, rc={\"figure.figsize\": [10, 10]})"
   ]
  },
  {
   "cell_type": "markdown",
   "metadata": {},
   "source": [
    "<a id='section1'></a>\n",
    "#### Data Acquisition"
   ]
  },
  {
   "cell_type": "code",
   "execution_count": 3,
   "metadata": {},
   "outputs": [],
   "source": [
    "np_data = spark.read.format(\"csv\").option(\"header\", \"true\").load(\"DMV_CS551G_Assignment 2-dataset-nuclear_plants.csv\")"
   ]
  },
  {
   "cell_type": "code",
   "execution_count": 4,
   "metadata": {},
   "outputs": [
    {
     "name": "stdout",
     "output_type": "stream",
     "text": [
      "+------+--------------------+--------------------+---------------------+--------------------+------------------+------------------+------------------+------------------+------------------+------------------+------------------+------------------+\n",
      "|Status|Power_range_sensor_1|Power_range_sensor_2|Power_range_sensor_3 |Power_range_sensor_4|Pressure _sensor_1|Pressure _sensor_2|Pressure _sensor_3|Pressure _sensor_4|Vibration_sensor_1|Vibration_sensor_2|Vibration_sensor_3|Vibration_sensor_4|\n",
      "+------+--------------------+--------------------+---------------------+--------------------+------------------+------------------+------------------+------------------+------------------+------------------+------------------+------------------+\n",
      "|Normal|              4.5044|              0.7443|                 6.34|              1.9052|           29.5315|            0.8647|            2.2044|             6.048|           14.4659|            21.648|           15.3429|            1.2186|\n",
      "|Normal|              4.4284|              0.9073|               5.6433|              1.6232|           27.5032|            1.4704|            1.9929|            5.9856|           20.8356|            0.0646|           14.8813|            7.3483|\n",
      "|Normal|              4.5291|              1.0199|                6.113|              1.0565|           26.4271|            1.9247|             1.942|            6.7162|            5.3358|           11.0779|           25.0914|            9.2408|\n",
      "|Normal|              5.1727|              1.0007|               7.8589|              0.2765|           25.1576|             2.609|            2.9234|            6.7485|            1.9017|            1.8463|            28.664|            4.0157|\n",
      "|Normal|              5.2258|              0.6125|               7.9504|              0.1547|           24.0765|            3.2113|            4.4563|            5.8411|            0.5077|              9.37|           34.8122|           13.4966|\n",
      "|Normal|              4.8834|              0.5786|               5.6021|              0.5942|           21.0365|            2.6275|            4.3996|            5.3487|            3.6465|            9.3793|           36.2431|            11.124|\n",
      "|Normal|              5.7422|              0.8862|               5.1013|              0.9402|           15.5171|              2.92|            2.7061|            5.0366|            9.1854|            9.1116|           27.3162|            2.8526|\n",
      "|Normal|              6.5076|              0.5438|                7.153|              0.6711|           11.1481|            4.2967|            3.5731|            4.6123|           14.7705|            8.0038|           24.9714|            2.1417|\n",
      "|Normal|               5.625|              0.0403|               7.7087|              0.3214|            8.7975|            2.3293|             4.788|             5.203|            4.3388|            2.4187|           20.9187|            2.1233|\n",
      "|Normal|              4.9942|              0.4092|               6.2604|              0.6931|             6.189|            0.1537|            2.4934|            5.6573|            9.8132|           13.3581|           23.5036|            0.7478|\n",
      "|Normal|              5.9079|              0.9229|               5.3613|              0.3516|            4.0913|            1.1409|            1.4172|            4.4551|            8.1422|            9.8039|           20.7987|            0.1108|\n",
      "|Normal|              6.4215|              0.5978|               5.5765|              1.1847|            1.3588|            2.2807|            2.8529|            4.5002|             0.997|            8.7331|           27.2793|             2.114|\n",
      "|Normal|              5.9253|              0.2161|               6.2439|              0.8835|            4.0169|            1.3687|            3.9973|            5.3891|           18.1585|           14.4843|           25.4514|            5.9267|\n",
      "|Normal|              5.5783|              0.6262|               6.3556|              0.6747|            9.9827|            1.3455|            5.7394|            4.1904|           16.6814|           16.8661|           23.3743|            2.6033|\n",
      "|Normal|               5.495|              0.4971|               5.2286|              1.1902|           14.9418|            1.6808|            6.9821|            2.7535|                11|           16.3399|             7.136|            6.4898|\n",
      "|Normal|              5.6332|              0.5182|               4.3826|              1.8375|           19.1719|            2.3223|             6.841|            3.5384|           13.7643|            20.014|            4.0804|           20.5402|\n",
      "|Normal|              5.8438|              1.1902|               5.1022|              2.0297|           20.4563|            3.9257|            9.0478|            3.8586|           12.3057|           17.4384|           29.7256|           21.8234|\n",
      "|Normal|              5.4053|              1.8027|               5.9399|              1.5262|           18.5719|             3.669|           11.0384|            3.5604|           10.6625|           10.4963|           24.8606|           16.2476|\n",
      "|Normal|              5.2075|              1.4804|               5.8466|              1.1105|           16.7172|            2.6032|            8.9125|            4.2609|           20.7064|             7.893|            7.0806|           24.1498|\n",
      "|Normal|              6.0489|              0.9576|               5.3467|              1.5335|           15.4675|            3.7974|            7.7415|            4.0424|           23.3928|            3.3972|             17.54|           27.5655|\n",
      "+------+--------------------+--------------------+---------------------+--------------------+------------------+------------------+------------------+------------------+------------------+------------------+------------------+------------------+\n",
      "only showing top 20 rows\n",
      "\n"
     ]
    }
   ],
   "source": [
    "np_data.show()"
   ]
  },
  {
   "cell_type": "code",
   "execution_count": 5,
   "metadata": {},
   "outputs": [],
   "source": [
    "np_features = np_data\n",
    "np_label = np_data.select('Status')"
   ]
  },
  {
   "cell_type": "code",
   "execution_count": 6,
   "metadata": {},
   "outputs": [
    {
     "name": "stdout",
     "output_type": "stream",
     "text": [
      "root\n",
      " |-- Status: string (nullable = true)\n",
      " |-- Power_range_sensor_1: string (nullable = true)\n",
      " |-- Power_range_sensor_2: string (nullable = true)\n",
      " |-- Power_range_sensor_3 : string (nullable = true)\n",
      " |-- Power_range_sensor_4: string (nullable = true)\n",
      " |-- Pressure _sensor_1: string (nullable = true)\n",
      " |-- Pressure _sensor_2: string (nullable = true)\n",
      " |-- Pressure _sensor_3: string (nullable = true)\n",
      " |-- Pressure _sensor_4: string (nullable = true)\n",
      " |-- Vibration_sensor_1: string (nullable = true)\n",
      " |-- Vibration_sensor_2: string (nullable = true)\n",
      " |-- Vibration_sensor_3: string (nullable = true)\n",
      " |-- Vibration_sensor_4: string (nullable = true)\n",
      "\n"
     ]
    }
   ],
   "source": [
    "np_features.printSchema()"
   ]
  },
  {
   "cell_type": "markdown",
   "metadata": {},
   "source": [
    "Rename (shorten) and correct the names of the columns "
   ]
  },
  {
   "cell_type": "code",
   "execution_count": 7,
   "metadata": {},
   "outputs": [],
   "source": [
    "for col in np_data.columns:\n",
    "    col_clean = col.translate({ord(c): None for c in string.whitespace})\n",
    "    if 'Power_range' in col_clean:\n",
    "        col_clean = 'prs_' + col_clean[-1]\n",
    "    elif 'Pressure_sensor' in col_clean:\n",
    "        col_clean = 'ps_' + col_clean[-1]\n",
    "    elif 'Vibration_sensor' in col_clean:\n",
    "        col_clean = 'vs_' + col_clean[-1]\n",
    "    \n",
    "    np_features = np_features.withColumnRenamed(col, str(col_clean))"
   ]
  },
  {
   "cell_type": "code",
   "execution_count": 8,
   "metadata": {},
   "outputs": [
    {
     "name": "stdout",
     "output_type": "stream",
     "text": [
      "root\n",
      " |-- Status: string (nullable = true)\n",
      " |-- prs_1: string (nullable = true)\n",
      " |-- prs_2: string (nullable = true)\n",
      " |-- prs_3: string (nullable = true)\n",
      " |-- prs_4: string (nullable = true)\n",
      " |-- ps_1: string (nullable = true)\n",
      " |-- ps_2: string (nullable = true)\n",
      " |-- ps_3: string (nullable = true)\n",
      " |-- ps_4: string (nullable = true)\n",
      " |-- vs_1: string (nullable = true)\n",
      " |-- vs_2: string (nullable = true)\n",
      " |-- vs_3: string (nullable = true)\n",
      " |-- vs_4: string (nullable = true)\n",
      "\n"
     ]
    }
   ],
   "source": [
    "np_features.printSchema()"
   ]
  },
  {
   "cell_type": "code",
   "execution_count": 9,
   "metadata": {},
   "outputs": [
    {
     "name": "stdout",
     "output_type": "stream",
     "text": [
      "+------+------+------+------+------+-------+------+-------+------+-------+-------+-------+-------+\n",
      "|Status| prs_1| prs_2| prs_3| prs_4|   ps_1|  ps_2|   ps_3|  ps_4|   vs_1|   vs_2|   vs_3|   vs_4|\n",
      "+------+------+------+------+------+-------+------+-------+------+-------+-------+-------+-------+\n",
      "|Normal|4.5044|0.7443|  6.34|1.9052|29.5315|0.8647| 2.2044| 6.048|14.4659| 21.648|15.3429| 1.2186|\n",
      "|Normal|4.4284|0.9073|5.6433|1.6232|27.5032|1.4704| 1.9929|5.9856|20.8356| 0.0646|14.8813| 7.3483|\n",
      "|Normal|4.5291|1.0199| 6.113|1.0565|26.4271|1.9247|  1.942|6.7162| 5.3358|11.0779|25.0914| 9.2408|\n",
      "|Normal|5.1727|1.0007|7.8589|0.2765|25.1576| 2.609| 2.9234|6.7485| 1.9017| 1.8463| 28.664| 4.0157|\n",
      "|Normal|5.2258|0.6125|7.9504|0.1547|24.0765|3.2113| 4.4563|5.8411| 0.5077|   9.37|34.8122|13.4966|\n",
      "|Normal|4.8834|0.5786|5.6021|0.5942|21.0365|2.6275| 4.3996|5.3487| 3.6465| 9.3793|36.2431| 11.124|\n",
      "|Normal|5.7422|0.8862|5.1013|0.9402|15.5171|  2.92| 2.7061|5.0366| 9.1854| 9.1116|27.3162| 2.8526|\n",
      "|Normal|6.5076|0.5438| 7.153|0.6711|11.1481|4.2967| 3.5731|4.6123|14.7705| 8.0038|24.9714| 2.1417|\n",
      "|Normal| 5.625|0.0403|7.7087|0.3214| 8.7975|2.3293|  4.788| 5.203| 4.3388| 2.4187|20.9187| 2.1233|\n",
      "|Normal|4.9942|0.4092|6.2604|0.6931|  6.189|0.1537| 2.4934|5.6573| 9.8132|13.3581|23.5036| 0.7478|\n",
      "|Normal|5.9079|0.9229|5.3613|0.3516| 4.0913|1.1409| 1.4172|4.4551| 8.1422| 9.8039|20.7987| 0.1108|\n",
      "|Normal|6.4215|0.5978|5.5765|1.1847| 1.3588|2.2807| 2.8529|4.5002|  0.997| 8.7331|27.2793|  2.114|\n",
      "|Normal|5.9253|0.2161|6.2439|0.8835| 4.0169|1.3687| 3.9973|5.3891|18.1585|14.4843|25.4514| 5.9267|\n",
      "|Normal|5.5783|0.6262|6.3556|0.6747| 9.9827|1.3455| 5.7394|4.1904|16.6814|16.8661|23.3743| 2.6033|\n",
      "|Normal| 5.495|0.4971|5.2286|1.1902|14.9418|1.6808| 6.9821|2.7535|     11|16.3399|  7.136| 6.4898|\n",
      "|Normal|5.6332|0.5182|4.3826|1.8375|19.1719|2.3223|  6.841|3.5384|13.7643| 20.014| 4.0804|20.5402|\n",
      "|Normal|5.8438|1.1902|5.1022|2.0297|20.4563|3.9257| 9.0478|3.8586|12.3057|17.4384|29.7256|21.8234|\n",
      "|Normal|5.4053|1.8027|5.9399|1.5262|18.5719| 3.669|11.0384|3.5604|10.6625|10.4963|24.8606|16.2476|\n",
      "|Normal|5.2075|1.4804|5.8466|1.1105|16.7172|2.6032| 8.9125|4.2609|20.7064|  7.893| 7.0806|24.1498|\n",
      "|Normal|6.0489|0.9576|5.3467|1.5335|15.4675|3.7974| 7.7415|4.0424|23.3928| 3.3972|  17.54|27.5655|\n",
      "+------+------+------+------+------+-------+------+-------+------+-------+-------+-------+-------+\n",
      "only showing top 20 rows\n",
      "\n"
     ]
    }
   ],
   "source": [
    "np_features.show()"
   ]
  },
  {
   "cell_type": "code",
   "execution_count": 10,
   "metadata": {},
   "outputs": [],
   "source": [
    "# Write a custom function to convert the data type of DataFrame columns\n",
    "def convertColumn(df, names, newType):\n",
    "    for name in names: \n",
    "        df = df.withColumn(name, df[name].cast(newType))\n",
    "    return df"
   ]
  },
  {
   "cell_type": "code",
   "execution_count": 11,
   "metadata": {},
   "outputs": [],
   "source": [
    "np_features = convertColumn(np_features, np_features.columns[1:], DoubleType())"
   ]
  },
  {
   "cell_type": "code",
   "execution_count": 12,
   "metadata": {},
   "outputs": [
    {
     "name": "stdout",
     "output_type": "stream",
     "text": [
      "root\n",
      " |-- Status: string (nullable = true)\n",
      " |-- prs_1: double (nullable = true)\n",
      " |-- prs_2: double (nullable = true)\n",
      " |-- prs_3: double (nullable = true)\n",
      " |-- prs_4: double (nullable = true)\n",
      " |-- ps_1: double (nullable = true)\n",
      " |-- ps_2: double (nullable = true)\n",
      " |-- ps_3: double (nullable = true)\n",
      " |-- ps_4: double (nullable = true)\n",
      " |-- vs_1: double (nullable = true)\n",
      " |-- vs_2: double (nullable = true)\n",
      " |-- vs_3: double (nullable = true)\n",
      " |-- vs_4: double (nullable = true)\n",
      "\n"
     ]
    }
   ],
   "source": [
    "np_features.printSchema()"
   ]
  },
  {
   "cell_type": "markdown",
   "metadata": {},
   "source": [
    "Print some dataset statistics"
   ]
  },
  {
   "cell_type": "code",
   "execution_count": 13,
   "metadata": {},
   "outputs": [
    {
     "name": "stdout",
     "output_type": "stream",
     "text": [
      "+-------+------------------+-----------------+------------------+-----------------+\n",
      "|summary|             prs_1|            prs_2|             prs_3|            prs_4|\n",
      "+-------+------------------+-----------------+------------------+-----------------+\n",
      "|  count|               996|              996|               996|              996|\n",
      "|   mean|4.9995738935742935|6.379273152610441| 9.228112114457822| 7.35527208634539|\n",
      "| stddev|2.7648555187192883|2.312568802265547|2.5321728908943326|4.354778181006018|\n",
      "|    min|            0.0082|           0.0403|          2.583966|           0.0623|\n",
      "|    max|           12.1298|          11.9284|           15.7599|        17.235858|\n",
      "+-------+------------------+-----------------+------------------+-----------------+\n",
      "\n"
     ]
    }
   ],
   "source": [
    "np_features.describe('prs_1', 'prs_2', 'prs_3', 'prs_4').show()"
   ]
  },
  {
   "cell_type": "markdown",
   "metadata": {},
   "source": [
    "Get a more detailed description using ```pandas```"
   ]
  },
  {
   "cell_type": "code",
   "execution_count": 14,
   "metadata": {},
   "outputs": [
    {
     "data": {
      "text/html": [
       "<div>\n",
       "<style scoped>\n",
       "    .dataframe tbody tr th:only-of-type {\n",
       "        vertical-align: middle;\n",
       "    }\n",
       "\n",
       "    .dataframe tbody tr th {\n",
       "        vertical-align: top;\n",
       "    }\n",
       "\n",
       "    .dataframe thead th {\n",
       "        text-align: right;\n",
       "    }\n",
       "</style>\n",
       "<table border=\"1\" class=\"dataframe\">\n",
       "  <thead>\n",
       "    <tr style=\"text-align: right;\">\n",
       "      <th></th>\n",
       "      <th>Power_range_sensor_1</th>\n",
       "      <th>Power_range_sensor_2</th>\n",
       "      <th>Power_range_sensor_3</th>\n",
       "      <th>Power_range_sensor_4</th>\n",
       "      <th>Pressure _sensor_1</th>\n",
       "      <th>Pressure _sensor_2</th>\n",
       "      <th>Pressure _sensor_3</th>\n",
       "      <th>Pressure _sensor_4</th>\n",
       "      <th>Vibration_sensor_1</th>\n",
       "      <th>Vibration_sensor_2</th>\n",
       "      <th>Vibration_sensor_3</th>\n",
       "      <th>Vibration_sensor_4</th>\n",
       "    </tr>\n",
       "  </thead>\n",
       "  <tbody>\n",
       "    <tr>\n",
       "      <th>count</th>\n",
       "      <td>996.000000</td>\n",
       "      <td>996.000000</td>\n",
       "      <td>996.000000</td>\n",
       "      <td>996.000000</td>\n",
       "      <td>996.000000</td>\n",
       "      <td>996.000000</td>\n",
       "      <td>996.000000</td>\n",
       "      <td>996.000000</td>\n",
       "      <td>996.000000</td>\n",
       "      <td>996.000000</td>\n",
       "      <td>996.000000</td>\n",
       "      <td>996.000000</td>\n",
       "    </tr>\n",
       "    <tr>\n",
       "      <th>mean</th>\n",
       "      <td>4.999574</td>\n",
       "      <td>6.379273</td>\n",
       "      <td>9.228112</td>\n",
       "      <td>7.355272</td>\n",
       "      <td>14.199127</td>\n",
       "      <td>3.077958</td>\n",
       "      <td>5.749234</td>\n",
       "      <td>4.997002</td>\n",
       "      <td>8.164563</td>\n",
       "      <td>10.001593</td>\n",
       "      <td>15.187982</td>\n",
       "      <td>9.933591</td>\n",
       "    </tr>\n",
       "    <tr>\n",
       "      <th>std</th>\n",
       "      <td>2.764856</td>\n",
       "      <td>2.312569</td>\n",
       "      <td>2.532173</td>\n",
       "      <td>4.354778</td>\n",
       "      <td>11.680045</td>\n",
       "      <td>2.126091</td>\n",
       "      <td>2.526136</td>\n",
       "      <td>4.165490</td>\n",
       "      <td>6.173261</td>\n",
       "      <td>7.336233</td>\n",
       "      <td>12.159625</td>\n",
       "      <td>7.282383</td>\n",
       "    </tr>\n",
       "    <tr>\n",
       "      <th>min</th>\n",
       "      <td>0.008200</td>\n",
       "      <td>0.040300</td>\n",
       "      <td>2.583966</td>\n",
       "      <td>0.062300</td>\n",
       "      <td>0.024800</td>\n",
       "      <td>0.008262</td>\n",
       "      <td>0.001224</td>\n",
       "      <td>0.005800</td>\n",
       "      <td>0.000000</td>\n",
       "      <td>0.018500</td>\n",
       "      <td>0.064600</td>\n",
       "      <td>0.009200</td>\n",
       "    </tr>\n",
       "    <tr>\n",
       "      <th>25%</th>\n",
       "      <td>2.892120</td>\n",
       "      <td>4.931750</td>\n",
       "      <td>7.511400</td>\n",
       "      <td>3.438141</td>\n",
       "      <td>5.014875</td>\n",
       "      <td>1.415800</td>\n",
       "      <td>4.022800</td>\n",
       "      <td>1.581625</td>\n",
       "      <td>3.190292</td>\n",
       "      <td>4.004200</td>\n",
       "      <td>5.508900</td>\n",
       "      <td>3.842675</td>\n",
       "    </tr>\n",
       "    <tr>\n",
       "      <th>50%</th>\n",
       "      <td>4.881100</td>\n",
       "      <td>6.470500</td>\n",
       "      <td>9.348000</td>\n",
       "      <td>7.071550</td>\n",
       "      <td>11.716802</td>\n",
       "      <td>2.672400</td>\n",
       "      <td>5.741357</td>\n",
       "      <td>3.859200</td>\n",
       "      <td>6.752900</td>\n",
       "      <td>8.793050</td>\n",
       "      <td>12.185650</td>\n",
       "      <td>8.853050</td>\n",
       "    </tr>\n",
       "    <tr>\n",
       "      <th>75%</th>\n",
       "      <td>6.794557</td>\n",
       "      <td>8.104500</td>\n",
       "      <td>11.046800</td>\n",
       "      <td>10.917400</td>\n",
       "      <td>20.280250</td>\n",
       "      <td>4.502500</td>\n",
       "      <td>7.503578</td>\n",
       "      <td>7.599900</td>\n",
       "      <td>11.253300</td>\n",
       "      <td>14.684055</td>\n",
       "      <td>21.835000</td>\n",
       "      <td>14.357400</td>\n",
       "    </tr>\n",
       "    <tr>\n",
       "      <th>max</th>\n",
       "      <td>12.129800</td>\n",
       "      <td>11.928400</td>\n",
       "      <td>15.759900</td>\n",
       "      <td>17.235858</td>\n",
       "      <td>67.979400</td>\n",
       "      <td>10.242738</td>\n",
       "      <td>12.647500</td>\n",
       "      <td>16.555620</td>\n",
       "      <td>36.186438</td>\n",
       "      <td>34.867600</td>\n",
       "      <td>53.238400</td>\n",
       "      <td>43.231400</td>\n",
       "    </tr>\n",
       "  </tbody>\n",
       "</table>\n",
       "</div>"
      ],
      "text/plain": [
       "       Power_range_sensor_1  Power_range_sensor_2  Power_range_sensor_3   \\\n",
       "count            996.000000            996.000000             996.000000   \n",
       "mean               4.999574              6.379273               9.228112   \n",
       "std                2.764856              2.312569               2.532173   \n",
       "min                0.008200              0.040300               2.583966   \n",
       "25%                2.892120              4.931750               7.511400   \n",
       "50%                4.881100              6.470500               9.348000   \n",
       "75%                6.794557              8.104500              11.046800   \n",
       "max               12.129800             11.928400              15.759900   \n",
       "\n",
       "       Power_range_sensor_4  Pressure _sensor_1  Pressure _sensor_2  \\\n",
       "count            996.000000          996.000000          996.000000   \n",
       "mean               7.355272           14.199127            3.077958   \n",
       "std                4.354778           11.680045            2.126091   \n",
       "min                0.062300            0.024800            0.008262   \n",
       "25%                3.438141            5.014875            1.415800   \n",
       "50%                7.071550           11.716802            2.672400   \n",
       "75%               10.917400           20.280250            4.502500   \n",
       "max               17.235858           67.979400           10.242738   \n",
       "\n",
       "       Pressure _sensor_3  Pressure _sensor_4  Vibration_sensor_1  \\\n",
       "count          996.000000          996.000000          996.000000   \n",
       "mean             5.749234            4.997002            8.164563   \n",
       "std              2.526136            4.165490            6.173261   \n",
       "min              0.001224            0.005800            0.000000   \n",
       "25%              4.022800            1.581625            3.190292   \n",
       "50%              5.741357            3.859200            6.752900   \n",
       "75%              7.503578            7.599900           11.253300   \n",
       "max             12.647500           16.555620           36.186438   \n",
       "\n",
       "       Vibration_sensor_2  Vibration_sensor_3  Vibration_sensor_4  \n",
       "count          996.000000          996.000000          996.000000  \n",
       "mean            10.001593           15.187982            9.933591  \n",
       "std              7.336233           12.159625            7.282383  \n",
       "min              0.018500            0.064600            0.009200  \n",
       "25%              4.004200            5.508900            3.842675  \n",
       "50%              8.793050           12.185650            8.853050  \n",
       "75%             14.684055           21.835000           14.357400  \n",
       "max             34.867600           53.238400           43.231400  "
      ]
     },
     "execution_count": 14,
     "metadata": {},
     "output_type": "execute_result"
    }
   ],
   "source": [
    "np_pd_data = pd.read_csv('DMV_CS551G_Assignment 2-dataset-nuclear_plants.csv')\n",
    "np_pd_features = np_pd_data.drop('Status', axis=1)\n",
    "np_pd_features.describe()"
   ]
  },
  {
   "cell_type": "code",
   "execution_count": 15,
   "metadata": {},
   "outputs": [
    {
     "data": {
      "text/plain": [
       "Power_range_sensor_1      4.881100\n",
       "Power_range_sensor_2      6.470500\n",
       "Power_range_sensor_3      9.348000\n",
       "Power_range_sensor_4      7.071550\n",
       "Pressure _sensor_1       11.716802\n",
       "Pressure _sensor_2        2.672400\n",
       "Pressure _sensor_3        5.741357\n",
       "Pressure _sensor_4        3.859200\n",
       "Vibration_sensor_1        6.752900\n",
       "Vibration_sensor_2        8.793050\n",
       "Vibration_sensor_3       12.185650\n",
       "Vibration_sensor_4        8.853050\n",
       "dtype: float64"
      ]
     },
     "execution_count": 15,
     "metadata": {},
     "output_type": "execute_result"
    }
   ],
   "source": [
    "np_pd_features.median()"
   ]
  },
  {
   "cell_type": "markdown",
   "metadata": {},
   "source": [
    "Check for missing values/NaNs"
   ]
  },
  {
   "cell_type": "code",
   "execution_count": 16,
   "metadata": {},
   "outputs": [
    {
     "name": "stdout",
     "output_type": "stream",
     "text": [
      "+------+-----+-----+-----+-----+----+----+----+----+----+----+----+----+\n",
      "|Status|prs_1|prs_2|prs_3|prs_4|ps_1|ps_2|ps_3|ps_4|vs_1|vs_2|vs_3|vs_4|\n",
      "+------+-----+-----+-----+-----+----+----+----+----+----+----+----+----+\n",
      "|     0|    0|    0|    0|    0|   0|   0|   0|   0|   0|   0|   0|   0|\n",
      "+------+-----+-----+-----+-----+----+----+----+----+----+----+----+----+\n",
      "\n"
     ]
    }
   ],
   "source": [
    "np_features.select([count(when(isnan(c), c)).alias(c) for c in np_features.columns]).show()"
   ]
  },
  {
   "cell_type": "markdown",
   "metadata": {},
   "source": [
    "<a id='section2'></a>\n",
    "#### Data Exploration"
   ]
  },
  {
   "cell_type": "code",
   "execution_count": 17,
   "metadata": {},
   "outputs": [
    {
     "data": {
      "image/png": "[encoded data removed]",
      "text/plain": [
       "<Figure size 720x720 with 1 Axes>"
      ]
     },
     "metadata": {},
     "output_type": "display_data"
    }
   ],
   "source": [
    "sns.set(style='whitegrid', palette=\"deep\", font_scale=1.1, rc={\"figure.figsize\": [10, 10]})\n",
    "ax = sns.boxplot(x=\"Status\", y=\"Vibration_sensor_1\", data=np_pd_data, dodge=False)\n",
    "ax = sns.swarmplot(x=\"Status\", y=\"Vibration_sensor_1\", data=np_pd_data, color=\".25\")\n",
    "plt.show()"
   ]
  },
  {
   "cell_type": "code",
   "execution_count": 18,
   "metadata": {},
   "outputs": [
    {
     "data": {
      "text/plain": [
       "Normal      498\n",
       "Abnormal    498\n",
       "Name: Status, dtype: int64"
      ]
     },
     "execution_count": 18,
     "metadata": {},
     "output_type": "execute_result"
    }
   ],
   "source": [
    "pd.value_counts(np_pd_data['Status'])"
   ]
  },
  {
   "cell_type": "code",
   "execution_count": 19,
   "metadata": {},
   "outputs": [],
   "source": [
    "np_pd_normal = np_pd_data[np_pd_data['Status'] == 'Normal']\n",
    "np_pd_abnormal = np_pd_data[np_pd_data['Status'] == 'Abnormal']"
   ]
  },
  {
   "cell_type": "code",
   "execution_count": 20,
   "metadata": {},
   "outputs": [
    {
     "data": {
      "image/png": "[encoded data removed]",
      "text/plain": [
       "<Figure size 720x720 with 1 Axes>"
      ]
     },
     "metadata": {},
     "output_type": "display_data"
    }
   ],
   "source": [
    "sns.set(style='whitegrid', palette=\"deep\", font_scale=1.1, rc={\"figure.figsize\": [10, 10]})\n",
    "sns.distplot(np_pd_normal['Vibration_sensor_2'], label='Normal class distribution')\n",
    "sns.distplot(np_pd_abnormal['Vibration_sensor_2'], label='Abnormal class distribution')\n",
    "plt.legend()\n",
    "plt.show()"
   ]
  },
  {
   "cell_type": "markdown",
   "metadata": {},
   "source": [
    "<a id='section3'></a>\n",
    "#### Logistic Regression model"
   ]
  },
  {
   "cell_type": "markdown",
   "metadata": {},
   "source": [
    "Encoding the label column"
   ]
  },
  {
   "cell_type": "code",
   "execution_count": 21,
   "metadata": {},
   "outputs": [],
   "source": [
    "indexer = StringIndexer(inputCol=\"Status\", outputCol=\"label\")\n",
    "np_features = indexer.fit(np_features).transform(np_features)\n",
    "np_features = convertColumn(np_features, [\"label\"], IntegerType())\n",
    "np_features = np_features.drop(\"Status\")"
   ]
  },
  {
   "cell_type": "code",
   "execution_count": 22,
   "metadata": {},
   "outputs": [
    {
     "name": "stdout",
     "output_type": "stream",
     "text": [
      "+------+------+------+------+-------+------+-------+------+-------+-------+-------+-------+-----+\n",
      "| prs_1| prs_2| prs_3| prs_4|   ps_1|  ps_2|   ps_3|  ps_4|   vs_1|   vs_2|   vs_3|   vs_4|label|\n",
      "+------+------+------+------+-------+------+-------+------+-------+-------+-------+-------+-----+\n",
      "|4.5044|0.7443|  6.34|1.9052|29.5315|0.8647| 2.2044| 6.048|14.4659| 21.648|15.3429| 1.2186|    0|\n",
      "|4.4284|0.9073|5.6433|1.6232|27.5032|1.4704| 1.9929|5.9856|20.8356| 0.0646|14.8813| 7.3483|    0|\n",
      "|4.5291|1.0199| 6.113|1.0565|26.4271|1.9247|  1.942|6.7162| 5.3358|11.0779|25.0914| 9.2408|    0|\n",
      "|5.1727|1.0007|7.8589|0.2765|25.1576| 2.609| 2.9234|6.7485| 1.9017| 1.8463| 28.664| 4.0157|    0|\n",
      "|5.2258|0.6125|7.9504|0.1547|24.0765|3.2113| 4.4563|5.8411| 0.5077|   9.37|34.8122|13.4966|    0|\n",
      "|4.8834|0.5786|5.6021|0.5942|21.0365|2.6275| 4.3996|5.3487| 3.6465| 9.3793|36.2431| 11.124|    0|\n",
      "|5.7422|0.8862|5.1013|0.9402|15.5171|  2.92| 2.7061|5.0366| 9.1854| 9.1116|27.3162| 2.8526|    0|\n",
      "|6.5076|0.5438| 7.153|0.6711|11.1481|4.2967| 3.5731|4.6123|14.7705| 8.0038|24.9714| 2.1417|    0|\n",
      "| 5.625|0.0403|7.7087|0.3214| 8.7975|2.3293|  4.788| 5.203| 4.3388| 2.4187|20.9187| 2.1233|    0|\n",
      "|4.9942|0.4092|6.2604|0.6931|  6.189|0.1537| 2.4934|5.6573| 9.8132|13.3581|23.5036| 0.7478|    0|\n",
      "|5.9079|0.9229|5.3613|0.3516| 4.0913|1.1409| 1.4172|4.4551| 8.1422| 9.8039|20.7987| 0.1108|    0|\n",
      "|6.4215|0.5978|5.5765|1.1847| 1.3588|2.2807| 2.8529|4.5002|  0.997| 8.7331|27.2793|  2.114|    0|\n",
      "|5.9253|0.2161|6.2439|0.8835| 4.0169|1.3687| 3.9973|5.3891|18.1585|14.4843|25.4514| 5.9267|    0|\n",
      "|5.5783|0.6262|6.3556|0.6747| 9.9827|1.3455| 5.7394|4.1904|16.6814|16.8661|23.3743| 2.6033|    0|\n",
      "| 5.495|0.4971|5.2286|1.1902|14.9418|1.6808| 6.9821|2.7535|   11.0|16.3399|  7.136| 6.4898|    0|\n",
      "|5.6332|0.5182|4.3826|1.8375|19.1719|2.3223|  6.841|3.5384|13.7643| 20.014| 4.0804|20.5402|    0|\n",
      "|5.8438|1.1902|5.1022|2.0297|20.4563|3.9257| 9.0478|3.8586|12.3057|17.4384|29.7256|21.8234|    0|\n",
      "|5.4053|1.8027|5.9399|1.5262|18.5719| 3.669|11.0384|3.5604|10.6625|10.4963|24.8606|16.2476|    0|\n",
      "|5.2075|1.4804|5.8466|1.1105|16.7172|2.6032| 8.9125|4.2609|20.7064|  7.893| 7.0806|24.1498|    0|\n",
      "|6.0489|0.9576|5.3467|1.5335|15.4675|3.7974| 7.7415|4.0424|23.3928| 3.3972|  17.54|27.5655|    0|\n",
      "+------+------+------+------+-------+------+-------+------+-------+-------+-------+-------+-----+\n",
      "only showing top 20 rows\n",
      "\n"
     ]
    }
   ],
   "source": [
    "np_features.show()"
   ]
  },
  {
   "cell_type": "markdown",
   "metadata": {},
   "source": [
    "Scale the features and create the model data"
   ]
  },
  {
   "cell_type": "code",
   "execution_count": 23,
   "metadata": {},
   "outputs": [
    {
     "name": "stdout",
     "output_type": "stream",
     "text": [
      "+-------------------------------------------------------------------------------------------------------------------------------------------------------------------------------------------------------------------+-----+\n",
      "|scaled_features                                                                                                                                                                                                    |label|\n",
      "+-------------------------------------------------------------------------------------------------------------------------------------------------------------------------------------------------------------------+-----+\n",
      "|[0.3218498836751728,2.5037784832143863,0.43749645121071834,2.528372025260846,0.40670884635362786,0.8726372195279792,1.4519300446321306,2.3433156436349054,2.9508333396982045,1.2617905837428387,0.167335327638901] |0    |\n",
      "|[0.3923342730867718,2.228639292480086,0.3727399955937634,2.354716878084557,0.6915978809741811,0.7889124999080519,1.4369498140129102,3.3751365227548535,0.008805609467133409,1.2238288859245843,1.0090515247734582] |0    |\n",
      "|[0.4410247163244777,2.4141321558185402,0.24260707574224435,2.262585386748756,0.9052764156086822,0.7687631465810812,1.612343347512949,0.8643405257403362,1.510025713869306,2.063501179889399,1.26892523850776]      |0    |\n",
      "|[0.432722260639185,3.103619041282893,0.063493475099603,2.1538957405720076,1.2271347058362612,1.1572616800798832,1.6200975374007827,0.30805434570268697,0.25166868048248314,2.3573095889567637,0.5514266167729647]  |0    |\n",
      "|[0.26485698475217434,3.1397540146605136,0.03552419746079054,2.061336168707744,1.5104245614610907,1.7640778630840743,1.4022600171462862,0.08224177909936067,1.2772223019665638,2.862933745209344,1.8533218307986143]|0    |\n",
      "+-------------------------------------------------------------------------------------------------------------------------------------------------------------------------------------------------------------------+-----+\n",
      "only showing top 5 rows\n",
      "\n"
     ]
    }
   ],
   "source": [
    "assembler = VectorAssembler(inputCols=np_features.columns[1:-1],\n",
    "                            outputCol=\"features\")\n",
    "predictors = assembler.transform(np_features)\n",
    "scaler = StandardScaler(inputCol=\"features\", outputCol=\"scaled_features\")\n",
    "predictors = scaler.fit(predictors).transform(predictors)\n",
    "model_data = predictors.select(\"scaled_features\", \"label\")\n",
    "model_data.show(5,truncate=False)"
   ]
  },
  {
   "cell_type": "markdown",
   "metadata": {},
   "source": [
    "Perform a train/test split"
   ]
  },
  {
   "cell_type": "code",
   "execution_count": 24,
   "metadata": {},
   "outputs": [
    {
     "name": "stdout",
     "output_type": "stream",
     "text": [
      "Training Dataset Count: 735\n",
      "Test Dataset Count: 261\n"
     ]
    }
   ],
   "source": [
    "np_train_data, np_test_data = model_data.randomSplit([.75,.25],seed=42)\n",
    "print(\"Training Dataset Count: \" + str(np_train_data.count()))\n",
    "print(\"Test Dataset Count: \" + str(np_test_data.count()))"
   ]
  },
  {
   "cell_type": "markdown",
   "metadata": {},
   "source": [
    "Fit the model"
   ]
  },
  {
   "cell_type": "code",
   "execution_count": 25,
   "metadata": {},
   "outputs": [],
   "source": [
    "lr = LogisticRegression(featuresCol=\"scaled_features\", labelCol=\"label\", maxIter=100, regParam=0.0, elasticNetParam=0.8)\n",
    "lrModel = lr.fit(np_train_data)"
   ]
  },
  {
   "cell_type": "code",
   "execution_count": 26,
   "metadata": {},
   "outputs": [
    {
     "name": "stdout",
     "output_type": "stream",
     "text": [
      "Training set AUC: 0.7998829334795429\n",
      "Training set accuracy:0.7333333333333333\n",
      "Training set precision:0.7338828577259446\n",
      "Training set recall:0.7333333333333334\n",
      "Test set AUC: 0.7858913813459266\n",
      "Test set accuracy:0.7088122605363985\n",
      "Test set precision:0.7108967245294431\n",
      "Test set recall:0.7088122605363985\n"
     ]
    }
   ],
   "source": [
    "trainingSummary = lrModel.summary\n",
    "\n",
    "'''\n",
    "roc = trainingSummary.roc.toPandas()\n",
    "plt.plot(roc['FPR'], roc['TPR'])\n",
    "plt.ylabel('False Positive Rate')\n",
    "plt.xlabel('True Positive Rate')\n",
    "plt.title('ROC Curve')\n",
    "plt.show()\n",
    "'''\n",
    "lr_preds_train = lrModel.transform(np_train_data)\n",
    "lr_preds_test = lrModel.transform(np_test_data)\n",
    "\n",
    "auc_eval = BinaryClassificationEvaluator(metricName='areaUnderROC', labelCol='label')\n",
    "acc_eval = MulticlassClassificationEvaluator(metricName='accuracy', labelCol='label')\n",
    "precision_eval = MulticlassClassificationEvaluator(metricName='weightedPrecision', labelCol='label')\n",
    "recall_eval = MulticlassClassificationEvaluator(metricName='weightedRecall', labelCol='label')\n",
    "\n",
    "print('Training set AUC: ' + str(trainingSummary.areaUnderROC))\n",
    "print('Training set accuracy:' + str(trainingSummary.accuracy))\n",
    "print('Training set precision:' + str(precision_eval.evaluate(lr_preds_train)))\n",
    "print('Training set recall:' + str(recall_eval.evaluate(lr_preds_train)))\n",
    "\n",
    "print('Test set AUC: ' + str(auc_eval.evaluate(lr_preds_test)))\n",
    "print('Test set accuracy:' + str(acc_eval.evaluate(lr_preds_test)))\n",
    "print('Test set precision:' + str(precision_eval.evaluate(lr_preds_test)))\n",
    "print('Test set recall:' + str(recall_eval.evaluate(lr_preds_test)))"
   ]
  },
  {
   "cell_type": "markdown",
   "metadata": {},
   "source": [
    "<a id='section4'></a>\n",
    "#### Gradient-boosting tree model"
   ]
  },
  {
   "cell_type": "code",
   "execution_count": 27,
   "metadata": {},
   "outputs": [],
   "source": [
    "gbt = GBTClassifier(labelCol=\"label\", featuresCol=\"scaled_features\", maxIter=50, maxDepth=5)\n",
    "gbt_model = gbt.fit(np_train_data)"
   ]
  },
  {
   "cell_type": "code",
   "execution_count": 28,
   "metadata": {},
   "outputs": [
    {
     "name": "stdout",
     "output_type": "stream",
     "text": [
      "Training set AUC: 1.0\n",
      "Training set accuracy:0.998639455782313\n",
      "Training set precision:0.99864305510564\n",
      "Training set recall:0.9986394557823128\n",
      "Test set AUC: 0.9727863046044866\n",
      "Test set accuracy:0.9042145593869731\n",
      "Test set precision:0.9066180258862544\n",
      "Test set recall:0.9042145593869731\n"
     ]
    }
   ],
   "source": [
    "lr_preds_train = gbt_model.transform(np_train_data)\n",
    "lr_preds_test = gbt_model.transform(np_test_data)\n",
    "\n",
    "auc_eval = BinaryClassificationEvaluator(metricName='areaUnderROC', labelCol='label')\n",
    "acc_eval = MulticlassClassificationEvaluator(metricName='accuracy', labelCol='label')\n",
    "precision_eval = MulticlassClassificationEvaluator(metricName='weightedPrecision', labelCol='label')\n",
    "recall_eval = MulticlassClassificationEvaluator(metricName='weightedRecall', labelCol='label')\n",
    "\n",
    "print('Training set AUC: ' + str(auc_eval.evaluate(lr_preds_train)))\n",
    "print('Training set accuracy:' + str(acc_eval.evaluate(lr_preds_train)))\n",
    "print('Training set precision:' + str(precision_eval.evaluate(lr_preds_train)))\n",
    "print('Training set recall:' + str(recall_eval.evaluate(lr_preds_train)))\n",
    "\n",
    "print('Test set AUC: ' + str(auc_eval.evaluate(lr_preds_test)))\n",
    "print('Test set accuracy:' + str(acc_eval.evaluate(lr_preds_test)))\n",
    "print('Test set precision:' + str(precision_eval.evaluate(lr_preds_test)))\n",
    "print('Test set recall:' + str(recall_eval.evaluate(lr_preds_test)))"
   ]
  },
  {
   "cell_type": "code",
   "execution_count": 29,
   "metadata": {},
   "outputs": [
    {
     "name": "stdout",
     "output_type": "stream",
     "text": [
      "+--------------------+-----+--------------------+--------------------+----------+\n",
      "|     scaled_features|label|       rawPrediction|         probability|prediction|\n",
      "+--------------------+-----+--------------------+--------------------+----------+\n",
      "|[0.09344586841623...|    0|[1.14178891146590...|[0.90750779818921...|       0.0|\n",
      "|[0.16825445349725...|    1|[-1.3581925581530...|[0.06201340326664...|       1.0|\n",
      "|[0.17694608679279...|    0|[1.03777024355976...|[0.88850301463809...|       0.0|\n",
      "|[0.31194747559219...|    1|[-1.1279001540286...|[0.09485031520152...|       1.0|\n",
      "|[0.34641131507749...|    1|[-1.4548987460554...|[0.05167135774106...|       1.0|\n",
      "|[0.51466576857475...|    0|[1.30938552867208...|[0.93205992589681...|       0.0|\n",
      "|[0.55743206374535...|    0|[1.84112535021433...|[0.97545152423973...|       0.0|\n",
      "|[0.65701483065563...|    1|[-1.4573464377965...|[0.05143200275734...|       1.0|\n",
      "|[0.69559011538342...|    1|[-1.4276284657761...|[0.05441021502091...|       1.0|\n",
      "|[0.94450292586330...|    1|[-1.2751342360430...|[0.07240845123821...|       1.0|\n",
      "|[0.94935467340439...|    1|[-1.9529885777224...|[0.01972440296130...|       1.0|\n",
      "|[0.95420642094548...|    1|[-2.1899203753074...|[0.01237236050271...|       1.0|\n",
      "|[0.96673275096067...|    1|[-2.0943923101216...|[0.01493817159349...|       1.0|\n",
      "|[1.02971725540322...|    1|[-1.8957721932823...|[0.02206297555180...|       1.0|\n",
      "|[1.04868317760931...|    1|[-1.1627772989563...|[0.08902853822882...|       1.0|\n",
      "|[1.15850909922132...|    1|[-1.9999135155090...|[0.01798926531713...|       1.0|\n",
      "|[1.24705478910497...|    1|[-1.3368144689067...|[0.06454750270200...|       1.0|\n",
      "|[1.32899829704054...|    1|[-1.2811962421445...|[0.07159834590216...|       1.0|\n",
      "|[1.34067016599145...|    1|[-1.7480011353168...|[0.02942619252856...|       1.0|\n",
      "|[1.38088864507362...|    1|[-2.1804106363734...|[0.01260693338408...|       1.0|\n",
      "+--------------------+-----+--------------------+--------------------+----------+\n",
      "only showing top 20 rows\n",
      "\n"
     ]
    }
   ],
   "source": [
    "lr_preds_test.show()"
   ]
  },
  {
   "cell_type": "markdown",
   "metadata": {},
   "source": [
    "<a id='section5'></a>\n",
    "### Conclusion"
   ]
  },
  {
   "cell_type": "markdown",
   "metadata": {},
   "source": [
    "From the results, we can observe that the <b>Gradient-boosted</b> model clearly performs better than the <b>Logistic Regression</b> model, as it captures a lot more complex relationships within the data by using an optimized ensemble of weak learners. By checking the results from the training data, we can also see that the performance simply depends on the model complexity as there is no overfitting present here. <b>Apache Spark</b> actually managed to provide a fairly robust and accurate model with only seconds of training.\n",
    "\n",
    "Overall, the <b>Apache Spark</b> framework provides a lot of optimizations in terms of low-level memory management and parallel processing, which can gradually speed up the <b>ML</b> pipeline, from the <b>data preprocessing, feature extraction, etc.</b> to the actual <b>training, tuning and evaluation</b> of the models. It also works with <b>DataFrame</b> structures which makes it easy to extract information from very large datasets using <b>SQL queries</b>. This enables the <b>data scientist</b> to build a working solution efficiently and quickly, regardless of the required model complexity."
   ]
  }
 ],
 "metadata": {
  "kernelspec": {
   "display_name": "Python 3",
   "language": "python",
   "name": "python3"
  },
  "language_info": {
   "codemirror_mode": {
    "name": "ipython",
    "version": 3
   },
   "file_extension": ".py",
   "mimetype": "text/x-python",
   "name": "python",
   "nbconvert_exporter": "python",
   "pygments_lexer": "ipython3",
   "version": "3.7.1"
  }
 },
 "nbformat": 4,
 "nbformat_minor": 4
}
